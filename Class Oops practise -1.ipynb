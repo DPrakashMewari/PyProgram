{
 "cells": [
  {
   "cell_type": "code",
   "execution_count": 4,
   "id": "db5bb5b9",
   "metadata": {},
   "outputs": [
    {
     "name": "stdout",
     "output_type": "stream",
     "text": [
      "It is to show ay pr 100\n"
     ]
    }
   ],
   "source": [
    "class demo:\n",
    "    n = 'a'\n",
    "    c = 'p'\n",
    "    v = 32\n",
    "def main():\n",
    "    obj = demo\n",
    "    obj.n = 'ay'\n",
    "    obj.c = 'pr'\n",
    "    obj.v = 100\n",
    "    print(\"It is to show {0} {1} {2}\".format(obj.n,obj.c,obj.v))\n",
    "main()"
   ]
  },
  {
   "cell_type": "code",
   "execution_count": 15,
   "id": "efb14bd1",
   "metadata": {},
   "outputs": [
    {
     "name": "stdout",
     "output_type": "stream",
     "text": [
      "8\n"
     ]
    }
   ],
   "source": [
    "class square_root:\n",
    "    a = 0 \n",
    "    b = 0 \n",
    "    def __init__(self,a,b):\n",
    "        self.a = a\n",
    "        self.b = b\n",
    "    def squaring(self):\n",
    "        print( self.a ** self.b)\n",
    "def main():\n",
    "    obj = square_root(2,3)\n",
    "    obj.squaring()\n",
    "\n",
    "main()"
   ]
  },
  {
   "cell_type": "code",
   "execution_count": 24,
   "id": "16f634b3",
   "metadata": {},
   "outputs": [
    {
     "name": "stdout",
     "output_type": "stream",
     "text": [
      "A False\n",
      "P True\n"
     ]
    }
   ],
   "source": [
    "# Inheritance \n",
    "class Person(object):\n",
    "    def __init__(self,name):\n",
    "        self.name = name \n",
    "    def getName(self):\n",
    "        return self.name\n",
    "    def isEmploye(self):\n",
    "        return False\n",
    "    \n",
    "class Employee(Person):\n",
    "    def isEmploye(self):\n",
    "        return True\n",
    "\n",
    "def main():\n",
    "    obj = Person('A')\n",
    "    print(obj.getName(),obj.isEmploye())\n",
    "    obj = Employee('P')\n",
    "    print(obj.getName(),obj.isEmploye())\n",
    "\n",
    "    \n",
    "main()"
   ]
  },
  {
   "cell_type": "code",
   "execution_count": null,
   "id": "2b02d1e6",
   "metadata": {},
   "outputs": [],
   "source": [
    "1.create class test and test1\n",
    "2.inherit test and test1 into test2\n",
    "3.function demo in test\n",
    "4.function demo in test1\n",
    "5.test2 should inherit function-a from test1 and test both\n"
   ]
  },
  {
   "cell_type": "code",
   "execution_count": 42,
   "id": "89ef7156",
   "metadata": {},
   "outputs": [
    {
     "name": "stdout",
     "output_type": "stream",
     "text": [
      "It is Base Class\n",
      "--\n",
      "It is Derived Class\n",
      "It is Base Class\n"
     ]
    }
   ],
   "source": [
    "class test:\n",
    "    def demo(self):\n",
    "        print('It is Base Class')\n",
    "class test1(test):\n",
    "    def demo(self):\n",
    "        print(\"It is Derived Class\")\n",
    "        super().demo()\n",
    "\n",
    "def main():\n",
    "    obj = test()\n",
    "    obj.demo() # It only call our function\n",
    "    print(\"--\")\n",
    "    obj1 = test1()\n",
    "    obj1.demo() # But it calls Parent an IT own function\n",
    "\n",
    "    \n",
    "main()"
   ]
  },
  {
   "cell_type": "code",
   "execution_count": 49,
   "id": "3d891008",
   "metadata": {},
   "outputs": [
    {
     "name": "stdout",
     "output_type": "stream",
     "text": [
      "For Search https://www.google.com Google\n",
      "--\n",
      "Web Info KEYWORD ARE Lion from website https://www.google.com by Google\n"
     ]
    }
   ],
   "source": [
    "class website:\n",
    "    info = 'Google'\n",
    "    website= \"https://www.google.com\"\n",
    "    def webinfo(self):\n",
    "        print(\"For Search\",self.website,self.info)\n",
    "\n",
    "class searching(website):\n",
    "    def __init__(self):\n",
    "        self.keyword = 'Lion'\n",
    "    def details(self):\n",
    "        print(\"Web Info KEYWORD ARE {} from website {} by {}\".format(self.keyword,self.website,self.info))\n",
    "    \n",
    "    \n",
    "class main():\n",
    "    obj = website()\n",
    "    obj.webinfo()\n",
    "    print(\"--\")\n",
    "    obj = searching()\n",
    "    obj.details()"
   ]
  },
  {
   "cell_type": "code",
   "execution_count": 72,
   "id": "3570d6b7",
   "metadata": {},
   "outputs": [
    {
     "name": "stdout",
     "output_type": "stream",
     "text": [
      "Exception Occured None\n"
     ]
    }
   ],
   "source": [
    "# SQL using Class:\n",
    "import mysql.connector\n",
    "import logging as lg\n",
    "lg.basicConfig(filename='sqlerror1.log',level=lg.ERROR)\n",
    "\n",
    "\n",
    "class Dbop(object):\n",
    "    def __init__(self,databasename,root,password):\n",
    "        self.databasename = databasename\n",
    "        self.root = root\n",
    "        self.password = password\n",
    "    def createdatabase(self):\n",
    "        try:\n",
    "            conn = mysql.connector.connect(host='localhost',user=self.root,password=self.password)\n",
    "        except Exception as e:\n",
    "            lg.error(e)\n",
    "        return conn   \n",
    "    def create_table(self,tablename,dictcol):\n",
    "        try:\n",
    "            conn = self.createdatabase()\n",
    "            c = conn.cursor()\n",
    "            for key in dictcol.keys():\n",
    "                datatype = dictcol[key]\n",
    "                try:\n",
    "                    conn.execute('CREATE TABLE {tableName} ({column_name} {dataType})'.format(tableName=tablename,column_name=key,dataType=datatype))\n",
    "                except Exception as e:\n",
    "                    lg.error(e)\n",
    "            print(\"Table {0} created in database {1}\".format(tablename,self.databasename))\n",
    "        \n",
    "        except Exception as e:\n",
    "            conn.rollback()\n",
    "            print(\"Exception Occured\",lg.error(e))\n",
    "    def insertIntoTable(self,tablename, listOfvaluesToInsert):\n",
    "        try:\n",
    "            conn = self.createdatabase()\n",
    "            conn.execute('INSERT INTO {tablename}  values ({values})'.format(tablename = tablename,values=(listOfvaluesToInsert)))\n",
    "            conn.commit()\n",
    "            print(\"Values Inserted Successfully!!!\")\n",
    "        except Exception as e:\n",
    "            conn.rollback()\n",
    "            print(\"Error occured: \" + lg.error(e))\n",
    "            \n",
    "            \n",
    "    def selectFromTable(self,tablename):\n",
    "        try:\n",
    "            conn = self.createdatabase()\n",
    "            c = conn.cursor()\n",
    "            c.execute(\"SELECT *  FROM {table}\".format(table=tablename))\n",
    "            print(\"values in table : \" ,c.fetchall())\n",
    "            self.closeDbConnection(conn)\n",
    "            print(\"Connection to database closed!!\")\n",
    "            \n",
    "        except Exception as e:\n",
    "            self.closeDbConnection(conn)\n",
    "            print(\"Connection to database closed!!\")\n",
    "            print(\"Error occured: \" + lg.error(e))\n",
    "    \n",
    "    \n",
    "    \n",
    "obj = Dbop('Prakash','root','Root@123')    \n",
    "obj.createdatabase()\n",
    "obj.create_table('Emp','no')"
   ]
  },
  {
   "cell_type": "code",
   "execution_count": 51,
   "id": "f3955ad9",
   "metadata": {},
   "outputs": [
    {
     "name": "stdout",
     "output_type": "stream",
     "text": [
      "<mysql.connector.connection_cext.CMySQLConnection object at 0x7f577053da00>\n"
     ]
    }
   ],
   "source": [
    "mydb = mysql.connector.connect(\n",
    "  host=\"localhost\",\n",
    "  user=\"root\",\n",
    "  password=\"Root@123\"\n",
    ")\n",
    "\n",
    "print(mydb)"
   ]
  },
  {
   "cell_type": "code",
   "execution_count": 68,
   "id": "5a7d01e9",
   "metadata": {},
   "outputs": [
    {
     "data": {
      "text/plain": [
       "2"
      ]
     },
     "execution_count": 68,
     "metadata": {},
     "output_type": "execute_result"
    }
   ],
   "source": [
    "for key in dd1.keys():\n",
    "                datatype = dd1[key]\n"
   ]
  },
  {
   "cell_type": "code",
   "execution_count": 66,
   "id": "b2af1036",
   "metadata": {},
   "outputs": [],
   "source": [
    "dd1 = {2:3}"
   ]
  },
  {
   "cell_type": "code",
   "execution_count": null,
   "id": "52d204fe",
   "metadata": {},
   "outputs": [],
   "source": []
  }
 ],
 "metadata": {
  "kernelspec": {
   "display_name": "Python 3",
   "language": "python",
   "name": "python3"
  },
  "language_info": {
   "codemirror_mode": {
    "name": "ipython",
    "version": 3
   },
   "file_extension": ".py",
   "mimetype": "text/x-python",
   "name": "python",
   "nbconvert_exporter": "python",
   "pygments_lexer": "ipython3",
   "version": "3.8.8"
  }
 },
 "nbformat": 4,
 "nbformat_minor": 5
}
