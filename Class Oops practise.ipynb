{
 "cells": [
  {
   "cell_type": "code",
   "execution_count": 27,
   "id": "6e7d1592",
   "metadata": {},
   "outputs": [
    {
     "data": {
      "text/plain": [
       "\"\\nclass Person:\\n    def __init__(self,person_name):\\n        self.person_name = person_name \\nobj = Person('Prakaysh')\\nobj.person_name\\n\""
      ]
     },
     "execution_count": 27,
     "metadata": {},
     "output_type": "execute_result"
    }
   ],
   "source": [
    "\"\"\"\n",
    "class Person:\n",
    "    def __init__(self,person_name):\n",
    "        self.person_name = person_name \n",
    "obj = Person('Prakaysh')\n",
    "obj.person_name\n",
    "\"\"\""
   ]
  },
  {
   "cell_type": "code",
   "execution_count": null,
   "id": "563954b9",
   "metadata": {},
   "outputs": [],
   "source": [
    "# File Handling \n",
    "# Exception Handling \n",
    "# Logger\n",
    "\n",
    "\n",
    "# Class and Object : \n",
    "#"
   ]
  },
  {
   "cell_type": "code",
   "execution_count": 25,
   "id": "3f162955",
   "metadata": {},
   "outputs": [],
   "source": [
    "def file_search(filename):\n",
    "    if filename in os.getcwd()+\"/\"+filename:\n",
    "        print('Found Succesfully')\n",
    "        print(\"Under File This are some contents:\")\n",
    "        f = open(filename,'r')\n",
    "        print(f.read())\n",
    "    else:\n",
    "        print(\"File Not Found\")\n",
    "        "
   ]
  },
  {
   "cell_type": "code",
   "execution_count": 26,
   "id": "6421ef0d",
   "metadata": {},
   "outputs": [
    {
     "name": "stdout",
     "output_type": "stream",
     "text": [
      "Found Succesfully\n",
      "Under File This are some contents:\n",
      "Filedata\n"
     ]
    }
   ],
   "source": [
    "file_search(\"hello.txt\")"
   ]
  },
  {
   "cell_type": "code",
   "execution_count": 2,
   "id": "a70d6271",
   "metadata": {},
   "outputs": [],
   "source": [
    "import os"
   ]
  },
  {
   "cell_type": "code",
   "execution_count": 16,
   "id": "97225929",
   "metadata": {},
   "outputs": [
    {
     "name": "stdout",
     "output_type": "stream",
     "text": [
      "Found Succesfully\n",
      "Under File\n",
      "Adding Some Data into File Append some data\n",
      "Found Succesfully\n",
      "Under File\n",
      "Adding Some Data into File Append some data\n",
      "['Adding', 'Some', 'Data', 'into', 'File', 'Append', 'some', 'data']\n"
     ]
    }
   ],
   "source": [
    "class File:\n",
    "    def __init__(self,filename):\n",
    "        self.filename = filename\n",
    "    def file_find(self):\n",
    "        try:\n",
    "            if self.filename in os.getcwd() + \"/\" + self.filename:\n",
    "                print(\"Found Succesfully\")\n",
    "                print(\"Under File\")\n",
    "                f = open(self.filename,'r')\n",
    "                print(f.read())\n",
    "        except Exception as e:\n",
    "            print(\"File Not Found\",e)\n",
    "    def addsomedata(self):\n",
    "        try:\n",
    "            f = open(self.filename,'w')\n",
    "            f.write(\"Adding Some Data into File\")\n",
    "            f.close\n",
    "        except Exception as e:\n",
    "            print(\"Something is Wrong\",e)\n",
    "    def append_data(self):\n",
    "        try:\n",
    "            f = open(self.filename,'a')\n",
    "            f.write(\" Append some data\")\n",
    "            f.close()\n",
    "        except:\n",
    "            print(\"Error\")\n",
    "    def readline_withsplit(self):\n",
    "        try:\n",
    "            with open(self.filename,'r') as file:\n",
    "                data = file.readlines()\n",
    "                for line in data:\n",
    "                    word = line.split()\n",
    "                    print(word)\n",
    "        except:\n",
    "            print('error found')\n",
    "            \n",
    "                \n",
    "\n",
    "obj = File('hello.txt')\n",
    "obj.file_find()\n",
    "obj.addsomedata()\n",
    "obj.append_data()\n",
    "obj.file_find()\n",
    "obj.readline_withsplit()"
   ]
  },
  {
   "cell_type": "code",
   "execution_count": 24,
   "id": "8ea3ad07",
   "metadata": {},
   "outputs": [],
   "source": [
    "import logging as lg \n",
    "users = {}\n",
    "class login:\n",
    "    def __init__(self,status,login,password):\n",
    "        self.status = status \n",
    "        self.login = login\n",
    "        self.password = password\n",
    "    def check_user_exist(self):\n",
    "        if status == 'Yes':\n",
    "            olduser()\n",
    "        elif status == \"No\":\n",
    "            newuser()\n",
    "    def olduser(self):\n",
    "        if self.login in users and users[self.login] == self.password:\n",
    "            print(\"Login Successfully\")\n",
    "        else:\n",
    "            print(\"User Dosent Exist\")\n",
    "    def newuser(self):\n",
    "        create_login = self.login \n",
    "        if create_login in users:\n",
    "            print(\"login name already exist!\")\n",
    "        else:\n",
    "            create_password = self.password\n",
    "            users[self.login] = self.password\n",
    "            print('New User Created!!')\n",
    "    \n",
    "\n",
    "        "
   ]
  },
  {
   "cell_type": "code",
   "execution_count": 30,
   "id": "668df683",
   "metadata": {},
   "outputs": [
    {
     "name": "stdout",
     "output_type": "stream",
     "text": [
      "User Dosent Exist\n",
      "New User Created!!\n",
      "Login Successfully\n"
     ]
    }
   ],
   "source": [
    "obj = login('No','Ay',123)\n",
    "obj.olduser()\n",
    "obj.newuser()\n",
    "obj.olduser()\n"
   ]
  }
 ],
 "metadata": {
  "kernelspec": {
   "display_name": "Python 3",
   "language": "python",
   "name": "python3"
  },
  "language_info": {
   "codemirror_mode": {
    "name": "ipython",
    "version": 3
   },
   "file_extension": ".py",
   "mimetype": "text/x-python",
   "name": "python",
   "nbconvert_exporter": "python",
   "pygments_lexer": "ipython3",
   "version": "3.8.8"
  }
 },
 "nbformat": 4,
 "nbformat_minor": 5
}
