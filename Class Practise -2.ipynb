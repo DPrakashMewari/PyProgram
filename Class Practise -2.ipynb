{
 "cells": [
  {
   "cell_type": "code",
   "execution_count": 20,
   "id": "bc91cb93",
   "metadata": {},
   "outputs": [
    {
     "name": "stdout",
     "output_type": "stream",
     "text": [
      "-1\n",
      "0.5\n",
      "3\n",
      "6\n"
     ]
    }
   ],
   "source": [
    "# One Derived Class many N class - Inheritance\n",
    "\n",
    "class method1:\n",
    "    def summation(self,a,b):\n",
    "        print( a+b)\n",
    "class method2:\n",
    "    def multiplication(self,a,b):\n",
    "        print( a*b)\n",
    "    \n",
    "class method3:\n",
    "    def divide(self,a,b):\n",
    "        print( a/b)\n",
    "\n",
    "class derived(method1,method2,method3):\n",
    "    def subtraction(self,a,b):\n",
    "        print( a-b)\n",
    "obj = derived()\n",
    "obj.subtraction(3,4)\n",
    "obj.divide(2,4)\n",
    "obj.multiplication(3,1)\n",
    "obj.summation(2,4)"
   ]
  },
  {
   "cell_type": "code",
   "execution_count": 13,
   "id": "dd249bc0",
   "metadata": {},
   "outputs": [
    {
     "name": "stdout",
     "output_type": "stream",
     "text": [
      "Working Hour are 9 to 2\n",
      "Working Hour are 9 to 8\n"
     ]
    }
   ],
   "source": [
    "# Method Overiding : Same type of method like parent class\n",
    "class Office1:\n",
    "    def working(self):\n",
    "        print(\"Working Hour are 9 to 8\")\n",
    "class Office2(Office1):\n",
    "    def working(self):\n",
    "        print(\"Working Hour are 9 to 2\")\n",
    "obj = Office2()\n",
    "obj1 = Office1()\n",
    "obj.working()\n",
    "obj1.working()\n",
    "        "
   ]
  },
  {
   "cell_type": "code",
   "execution_count": 18,
   "id": "9c479938",
   "metadata": {},
   "outputs": [
    {
     "name": "stdout",
     "output_type": "stream",
     "text": [
      "13\n",
      "name '_num' is not defined\n"
     ]
    }
   ],
   "source": [
    "# Data Abstraction in class\n",
    "\n",
    "class DAbstraction:\n",
    "    _num = 10\n",
    "    def numsum(self,a):\n",
    "        print( a + self._num)\n",
    "\n",
    "obj = DAbstraction()\n",
    "obj.numsum(3)\n",
    "\n",
    "# But if we try\n",
    "try:\n",
    "    print(_num)\n",
    "except Exception as e:\n",
    "    print(e)"
   ]
  },
  {
   "cell_type": "code",
   "execution_count": 19,
   "id": "28655923",
   "metadata": {},
   "outputs": [
    {
     "name": "stdout",
     "output_type": "stream",
     "text": [
      "There are many types of birds.\n",
      "Most of the birds can fly but some cannot.\n",
      "There are many types of birds.\n",
      "Sparrows can fly.\n",
      "There are many types of birds.\n",
      "Ostriches cannot fly.\n"
     ]
    }
   ],
   "source": [
    "# Polymorphism : Many form same type of function but for different \n",
    "\n",
    "class Bird:\n",
    "  def intro(self):\n",
    "    print(\"There are many types of birds.\")\n",
    "     \n",
    "  def flight(self):\n",
    "    print(\"Most of the birds can fly but some cannot.\")\n",
    "   \n",
    "class sparrow(Bird):\n",
    "  def flight(self):\n",
    "    print(\"Sparrows can fly.\")\n",
    "     \n",
    "class ostrich(Bird):\n",
    "  def flight(self):\n",
    "    print(\"Ostriches cannot fly.\")\n",
    "     \n",
    "obj_bird = Bird()\n",
    "obj_spr = sparrow()\n",
    "obj_ost = ostrich()\n",
    " \n",
    "obj_bird.intro()\n",
    "obj_bird.flight()\n",
    " \n",
    "obj_spr.intro()\n",
    "obj_spr.flight()\n",
    " \n",
    "obj_ost.intro()\n",
    "obj_ost.flight()"
   ]
  },
  {
   "cell_type": "code",
   "execution_count": 21,
   "id": "b0774b1a",
   "metadata": {},
   "outputs": [],
   "source": [
    "class ineuron:\n",
    "    def msg(self):\n",
    "        print(\"this is a msg to ineruonr \" )\n",
    "        \n",
    "        \n",
    "class xyz:\n",
    "    \n",
    "    def msg(self):\n",
    "        print(\"this is a msg to xyz\") \n"
   ]
  },
  {
   "cell_type": "code",
   "execution_count": 40,
   "id": "d6f12126",
   "metadata": {},
   "outputs": [
    {
     "name": "stdout",
     "output_type": "stream",
     "text": [
      "this is a msg to ineruonr \n",
      "this is a msg to xyz\n"
     ]
    }
   ],
   "source": [
    "def message(notes):\n",
    "    return notes.msg()\n",
    "\n",
    "i = ineuron()\n",
    "j = xyz()\n",
    "message(i)\n",
    "message(j)"
   ]
  }
 ],
 "metadata": {
  "kernelspec": {
   "display_name": "Python 3",
   "language": "python",
   "name": "python3"
  },
  "language_info": {
   "codemirror_mode": {
    "name": "ipython",
    "version": 3
   },
   "file_extension": ".py",
   "mimetype": "text/x-python",
   "name": "python",
   "nbconvert_exporter": "python",
   "pygments_lexer": "ipython3",
   "version": "3.8.10"
  }
 },
 "nbformat": 4,
 "nbformat_minor": 5
}
