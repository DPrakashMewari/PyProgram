{
 "cells": [
  {
   "cell_type": "code",
   "execution_count": 1,
   "id": "548ba7f8",
   "metadata": {},
   "outputs": [],
   "source": [
    "import mysql.connector\n",
    "import conn\n",
    "from conn import db"
   ]
  },
  {
   "cell_type": "code",
   "execution_count": 2,
   "id": "c62f9d0a",
   "metadata": {},
   "outputs": [
    {
     "name": "stdout",
     "output_type": "stream",
     "text": [
      "Connection Made Successfully\n",
      "Database Created\n",
      "Table Created Successfully\n",
      "Connected to table\n",
      "Inserted\n",
      "Connected to table\n",
      "Inserted\n",
      "Fetching Result :\n",
      "('Vij',)\n",
      "('Prak',)\n"
     ]
    }
   ],
   "source": [
    "class mydbconn:\n",
    "    def createdb(self,dbname):\n",
    "        try:\n",
    "            cur = db.cursor()\n",
    "            print('Connection Made Successfully')\n",
    "            cur.execute(\"Create database {}\".format(dbname))\n",
    "            print(\"Database Created\")\n",
    "        except Exception as e:\n",
    "            print(\"Error\",e)\n",
    "    def createtable(self,tablename,tablecoltabletype,dbname):\n",
    "        try:\n",
    "            cur = db.cursor()\n",
    "            cur.execute(\"USE {0}\".format(dbname))\n",
    "            for col in tablecoltabletype.keys():\n",
    "                type1 = tablecoltabletype[col]\n",
    "            cur.execute('CREATE TABLE {tb} ({colname} {coltype})'.format(tb=tablename,colname=col,coltype=type1))\n",
    "            print('Table Created Successfully')\n",
    "        except Exception as e:\n",
    "            print('ERROR',e)\n",
    " \n",
    "    def insertintotable(self,tablename,tablevalue,colname):\n",
    "        try:\n",
    "            cur = db.cursor()\n",
    "            print(\"Connected to table\")\n",
    "            sql = f\"Insert into {tablename} ({colname}) values (%s)\"\n",
    "            data = (tablevalue)\n",
    "            cur.execute(sql,(data,))\n",
    "            db.commit()\n",
    "            print(\"Inserted\")\n",
    "        except Exception as e:\n",
    "            print(\"Error\",e)\n",
    "            \n",
    "    def fetchquery(self,tablename):\n",
    "        try:\n",
    "            cur = db.cursor()\n",
    "            print(\"Fetching Result :\")\n",
    "            cur.execute(f\"select * from {tablename}\")\n",
    "            for i in cur.fetchall():\n",
    "                print(i)\n",
    "        except Exception as e:\n",
    "            pritn(\"Error Occured\",e)\n",
    "    \n",
    "def main():\n",
    "    obj = mydbconn()\n",
    "    obj.createdb('Prak')\n",
    "    obj.createtable('Person',{'name':'varchar(255)'},'Prak')\n",
    "    obj.insertintotable('Person','Vij','name')\n",
    "    obj.insertintotable('Person','Prak','name')\n",
    "    obj.fetchquery('Person')\n",
    "    \n",
    "    \n",
    "\n",
    "main()"
   ]
  },
  {
   "cell_type": "code",
   "execution_count": 6,
   "id": "c7dce75a",
   "metadata": {},
   "outputs": [
    {
     "name": "stdout",
     "output_type": "stream",
     "text": [
      "Connected to table\n",
      "Inserted\n",
      "Fetching Result :\n",
      "('Vij',)\n",
      "('Prak',)\n",
      "('Ay',)\n",
      "('Ay',)\n"
     ]
    }
   ],
   "source": [
    "def main():\n",
    "    obj = mydbconn()\n",
    "    obj.insertintotable('Person','Ay','name')\n",
    "    obj.fetchquery('Person')\n",
    "main()"
   ]
  }
 ],
 "metadata": {
  "kernelspec": {
   "display_name": "Python 3",
   "language": "python",
   "name": "python3"
  },
  "language_info": {
   "codemirror_mode": {
    "name": "ipython",
    "version": 3
   },
   "file_extension": ".py",
   "mimetype": "text/x-python",
   "name": "python",
   "nbconvert_exporter": "python",
   "pygments_lexer": "ipython3",
   "version": "3.8.8"
  }
 },
 "nbformat": 4,
 "nbformat_minor": 5
}
