{
 "cells": [
  {
   "cell_type": "code",
   "execution_count": 1,
   "metadata": {},
   "outputs": [],
   "source": [
    "import array"
   ]
  },
  {
   "cell_type": "code",
   "execution_count": 62,
   "metadata": {},
   "outputs": [
    {
     "name": "stdout",
     "output_type": "stream",
     "text": [
      "[1, 232, 2]\n",
      "12\n",
      "---\n",
      "1|232|2|\n",
      "23|231|12|\n",
      "--\n",
      "--\n",
      "11|12|5|2|\n",
      "15|6|10|\n",
      "10|8|12|5|\n"
     ]
    }
   ],
   "source": [
    "T=[[1,232,2],[23,231,12]]\n",
    "T\n",
    "\n",
    "# Accessing \n",
    "print(T[0])\n",
    "print(T[1][2])\n",
    "\n",
    "print(\"---\")\n",
    "\n",
    "# Loop \n",
    "\n",
    "for val in T:\n",
    "    for v in val:\n",
    "        print(v,end=\"|\")\n",
    "    print()\n",
    "    \n",
    "    \n",
    "# Insert record in 2d record\n",
    "\n",
    "T.insert(2,[1,3,12])\n",
    "T.insert(1,[1,32,1])\n",
    "\n",
    "\n",
    "# Updating value \n",
    "T[2] = [11,9]\n",
    "T[0][1] = 7\n",
    "print(\"--\")\n",
    "\n",
    "\n",
    "\n",
    "\n",
    "# Deleting\n",
    "\n",
    "T = [[11, 12, 5, 2], [15, 6,10], [10, 8, 12, 5], [12,15,8,6]]\n",
    "\n",
    "del T[3]\n",
    "\n",
    "\n",
    "# Again loop \n",
    "print(\"--\")\n",
    "\n",
    "for val in T:\n",
    "    for i in val:\n",
    "        print(i,end=\"|\")\n",
    "    print()"
   ]
  },
  {
   "cell_type": "code",
   "execution_count": 60,
   "metadata": {},
   "outputs": [
    {
     "name": "stdout",
     "output_type": "stream",
     "text": [
      "7\n",
      "32\n",
      "9\n",
      "3\n",
      "[11, 9]\n"
     ]
    }
   ],
   "source": [
    "\n",
    "# Accessing col\n",
    "for value in T:\n",
    "    print(value[1])\n",
    "    \n",
    "# Accessing row wise\n",
    "print(T[2])"
   ]
  },
  {
   "cell_type": "code",
   "execution_count": null,
   "metadata": {},
   "outputs": [],
   "source": []
  }
 ],
 "metadata": {
  "kernelspec": {
   "display_name": "Python 3",
   "language": "python",
   "name": "python3"
  },
  "language_info": {
   "codemirror_mode": {
    "name": "ipython",
    "version": 3
   },
   "file_extension": ".py",
   "mimetype": "text/x-python",
   "name": "python",
   "nbconvert_exporter": "python",
   "pygments_lexer": "ipython3",
   "version": "3.7.3"
  }
 },
 "nbformat": 4,
 "nbformat_minor": 5
}
