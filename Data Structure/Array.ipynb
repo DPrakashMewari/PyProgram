{
 "cells": [
  {
   "cell_type": "code",
   "execution_count": 1,
   "metadata": {},
   "outputs": [],
   "source": [
    "import array"
   ]
  },
  {
   "cell_type": "code",
   "execution_count": null,
   "metadata": {},
   "outputs": [],
   "source": [
    "# i represent to int \n",
    "# d represent float "
   ]
  },
  {
   "cell_type": "code",
   "execution_count": 10,
   "metadata": {},
   "outputs": [],
   "source": [
    "arr = array.array('i',[1,232,32,1,12,1])\n",
    "arr1 = array.array('d',[1,23,23,1])"
   ]
  },
  {
   "cell_type": "code",
   "execution_count": 13,
   "metadata": {},
   "outputs": [
    {
     "name": "stdout",
     "output_type": "stream",
     "text": [
      "array('d', [1.0, 23.0, 23.0, 1.0])\n",
      "array('i', [1, 232, 32, 1, 12, 1])\n"
     ]
    }
   ],
   "source": [
    "print(arr1)\n",
    "print(arr)"
   ]
  },
  {
   "cell_type": "code",
   "execution_count": 17,
   "metadata": {},
   "outputs": [
    {
     "name": "stdout",
     "output_type": "stream",
     "text": [
      "{1} {1.0}\n",
      "{232} {1.0}\n",
      "{32} {1.0}\n",
      "{1} {1.0}\n",
      "{12} {1.0}\n",
      "{1} {1.0}\n"
     ]
    }
   ],
   "source": [
    "for i in arr:\n",
    "    for j in arr1:\n",
    "        pass\n",
    "    print({i},{j})"
   ]
  },
  {
   "cell_type": "code",
   "execution_count": 19,
   "metadata": {},
   "outputs": [
    {
     "name": "stdout",
     "output_type": "stream",
     "text": [
      "10\n",
      "2\n",
      "212\n",
      "312\n",
      "33\n",
      "21\n"
     ]
    }
   ],
   "source": [
    "# Insertion Operation : \n",
    "\n",
    "from array import * \n",
    "array = array('i',[10,2,212,312,21])\n",
    "array.insert(4,33)\n",
    "for x in array:\n",
    "    print(x)"
   ]
  },
  {
   "cell_type": "code",
   "execution_count": 20,
   "metadata": {},
   "outputs": [
    {
     "data": {
      "text/plain": [
       "array('i', [10, 2, 212, 312, 33])"
      ]
     },
     "execution_count": 20,
     "metadata": {},
     "output_type": "execute_result"
    }
   ],
   "source": [
    "# Deletion Operation : \n",
    "\n",
    "array.remove(21)\n",
    "array"
   ]
  },
  {
   "cell_type": "code",
   "execution_count": 51,
   "metadata": {},
   "outputs": [
    {
     "data": {
      "text/plain": [
       "('Index of value is', 1)"
      ]
     },
     "execution_count": 51,
     "metadata": {},
     "output_type": "execute_result"
    }
   ],
   "source": [
    "#  Search operation : \n",
    "from array import *\n",
    "arr = array('i',[1,321,231,3123])\n",
    "arr.index(231)\n",
    "\n",
    "def find_value_array(n):\n",
    "    arr = array('i',[x for x in range(231)])\n",
    "    return arr.index(n)\n",
    "\n",
    "def find_value_array1(n):\n",
    "    arr = array('d',[23,213,23,12,312])\n",
    "    return (\"Index of value is\",arr.index(n))\n",
    "\n",
    "    \n",
    "find_value_array1(213)"
   ]
  },
  {
   "cell_type": "code",
   "execution_count": 59,
   "metadata": {},
   "outputs": [
    {
     "data": {
      "text/plain": [
       "array('i', [1, 23, 123, 22, 12, 21])"
      ]
     },
     "execution_count": 59,
     "metadata": {},
     "output_type": "execute_result"
    }
   ],
   "source": [
    "# Update Operation:\n",
    "arr = array('i',[1,23,123,123,12])\n",
    "arr[3] = 22  # update 3\n",
    "arr.insert(5,21)\n",
    "arr"
   ]
  },
  {
   "cell_type": "code",
   "execution_count": 67,
   "metadata": {},
   "outputs": [
    {
     "name": "stdout",
     "output_type": "stream",
     "text": [
      "array intialise array('i', [0, 1, 2, 3, 4, 5, 6, 7, 8])\n",
      "array inserted array('i', [0, 1, 2, 3, 3, 4, 5, 6, 7, 8])\n",
      "Upate intialise array('i', [0, 1, 2, 3, 3, 4, 5, 6, 7, 8])\n",
      "array removed array('i', [0, 1, 2, 3, 4, 5, 6, 7, 8])\n"
     ]
    }
   ],
   "source": [
    "import random \n",
    "def array_operation(n):\n",
    "    # intialize \n",
    "    arr = array('i',[x for x in range(random.randint(0,23))])\n",
    "    print('array intialise',arr)\n",
    "    # insert \n",
    "    arr.insert(n,n)\n",
    "    print(\"array inserted\",arr)\n",
    "    # update\n",
    "    arr[9] = n\n",
    "    print(\"Upate intialise\",arr)\n",
    "    # remove\n",
    "    arr.remove(n)\n",
    "    print('array removed',arr)\n",
    "    \n",
    "array_operation(3)"
   ]
  }
 ],
 "metadata": {
  "kernelspec": {
   "display_name": "Python 3",
   "language": "python",
   "name": "python3"
  },
  "language_info": {
   "codemirror_mode": {
    "name": "ipython",
    "version": 3
   },
   "file_extension": ".py",
   "mimetype": "text/x-python",
   "name": "python",
   "nbconvert_exporter": "python",
   "pygments_lexer": "ipython3",
   "version": "3.7.3"
  }
 },
 "nbformat": 4,
 "nbformat_minor": 2
}
