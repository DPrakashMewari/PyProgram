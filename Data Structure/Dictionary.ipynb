{
 "cells": [
  {
   "cell_type": "code",
   "execution_count": 7,
   "id": "0f44d36a",
   "metadata": {},
   "outputs": [
    {
     "data": {
      "text/plain": [
       "'Para'"
      ]
     },
     "execution_count": 7,
     "metadata": {},
     "output_type": "execute_result"
    }
   ],
   "source": [
    "dict = {'Name':'Para','Age':7\n",
    "       ,'Class':'First'}\n",
    "\n",
    "\n",
    "dict['Name']"
   ]
  },
  {
   "cell_type": "code",
   "execution_count": 12,
   "id": "fa3503b8",
   "metadata": {},
   "outputs": [
    {
     "data": {
      "text/plain": [
       "{'Name': 'Prakash', 'Age': 7, 'Class': 'First', 'Address': 'xyz'}"
      ]
     },
     "execution_count": 12,
     "metadata": {},
     "output_type": "execute_result"
    }
   ],
   "source": [
    "# Updating new dict\n",
    "dict['Address'] = 'xyz'\n",
    "dict\n",
    "\n",
    "# Update existing \n",
    "dict['Name'] = 'Prakash'\n",
    "dict"
   ]
  },
  {
   "cell_type": "code",
   "execution_count": 16,
   "id": "d85cd977",
   "metadata": {},
   "outputs": [
    {
     "data": {
      "text/plain": [
       "{'Name': 'Prakash', 'Age': 7, 'Address': 'xyz'}"
      ]
     },
     "execution_count": 16,
     "metadata": {},
     "output_type": "execute_result"
    }
   ],
   "source": [
    "# Delete : \n",
    "#del dict['Class']\n",
    "dict\n",
    "# dict.clear: CLear all \n"
   ]
  },
  {
   "cell_type": "code",
   "execution_count": 38,
   "id": "a156c7a3",
   "metadata": {},
   "outputs": [],
   "source": [
    "# Wrap up :\n",
    "\n",
    "\n",
    "def dict_op(**ele):\n",
    "    # update\n",
    "    ele[1] =  'xyz'\n",
    "    print(\"Updated element\",ele)\n",
    "    # delete\n",
    "    del ele['Name']\n",
    "    print('After Delete',ele)\n",
    "    \n",
    "    "
   ]
  },
  {
   "cell_type": "code",
   "execution_count": 40,
   "id": "1cea0a72",
   "metadata": {},
   "outputs": [
    {
     "name": "stdout",
     "output_type": "stream",
     "text": [
      "Updated element {'Name': 'Prakash', 'Address': 'xq2', 1: 'xyz'}\n",
      "After Delete {'Address': 'xq2', 1: 'xyz'}\n"
     ]
    }
   ],
   "source": [
    "dict_op(Name='Prakash',Address =\"xq2\")"
   ]
  }
 ],
 "metadata": {
  "kernelspec": {
   "display_name": "Python 3",
   "language": "python",
   "name": "python3"
  },
  "language_info": {
   "codemirror_mode": {
    "name": "ipython",
    "version": 3
   },
   "file_extension": ".py",
   "mimetype": "text/x-python",
   "name": "python",
   "nbconvert_exporter": "python",
   "pygments_lexer": "ipython3",
   "version": "3.8.10"
  }
 },
 "nbformat": 4,
 "nbformat_minor": 5
}
