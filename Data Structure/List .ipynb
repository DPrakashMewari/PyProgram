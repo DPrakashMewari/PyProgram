{
 "cells": [
  {
   "cell_type": "code",
   "execution_count": 14,
   "metadata": {},
   "outputs": [],
   "source": [
    "def list_operation(n):\n",
    "    # Insertion \n",
    "    x = [x for x in input().split()]\n",
    "    print(\"List Intialised\",x)\n",
    "    # Accessing \n",
    "    print(\"Accessing value\",x[n])\n",
    "    # update\n",
    "    x[2] = n\n",
    "    print('Updating value',x)\n",
    "    # append\n",
    "    x.append(n)\n",
    "    print(\"After appending\",x)\n",
    "    # delete\n",
    "    del x[n]\n",
    "    print('removed ',x)"
   ]
  },
  {
   "cell_type": "code",
   "execution_count": 17,
   "metadata": {},
   "outputs": [
    {
     "name": "stdout",
     "output_type": "stream",
     "text": [
      "dmsk djsdks sdks scj dsdsk cncn\n",
      "List Intialised ['dmsk', 'djsdks', 'sdks', 'scj', 'dsdsk', 'cncn']\n",
      "Accessing value dsdsk\n",
      "Updating value ['dmsk', 'djsdks', 4, 'scj', 'dsdsk', 'cncn']\n",
      "After appending ['dmsk', 'djsdks', 4, 'scj', 'dsdsk', 'cncn', 4]\n",
      "removed  ['dmsk', 'djsdks', 4, 'scj', 'cncn', 4]\n"
     ]
    }
   ],
   "source": [
    "list_operation(4)"
   ]
  },
  {
   "cell_type": "code",
   "execution_count": null,
   "metadata": {},
   "outputs": [],
   "source": []
  }
 ],
 "metadata": {
  "kernelspec": {
   "display_name": "Python 3",
   "language": "python",
   "name": "python3"
  },
  "language_info": {
   "codemirror_mode": {
    "name": "ipython",
    "version": 3
   },
   "file_extension": ".py",
   "mimetype": "text/x-python",
   "name": "python",
   "nbconvert_exporter": "python",
   "pygments_lexer": "ipython3",
   "version": "3.7.3"
  }
 },
 "nbformat": 4,
 "nbformat_minor": 2
}
