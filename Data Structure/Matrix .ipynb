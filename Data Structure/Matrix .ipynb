{
 "cells": [
  {
   "cell_type": "code",
   "execution_count": 9,
   "id": "b220a8e8",
   "metadata": {},
   "outputs": [
    {
     "name": "stdout",
     "output_type": "stream",
     "text": [
      "[['Mon' '18' '20' '22' '17']\n",
      " ['Tue' '11' '18' '21' '18']\n",
      " ['Wed' '15' '21' '20' '19']\n",
      " ['Thu' '11' '20' '22' '21']\n",
      " ['Fri' '18' '17' '23' '22']\n",
      " ['Sat' '12' '22' '20' '18']\n",
      " ['Sun' '13' '15' '19' '16']]\n"
     ]
    }
   ],
   "source": [
    "# Matrix \n",
    "\n",
    "from numpy import * \n",
    "a = array([['Mon',18,20,22,17],['Tue',11,18,21,18],\n",
    "   ['Wed',15,21,20,19],['Thu',11,20,22,21],\n",
    "   ['Fri',18,17,23,22],['Sat',12,22,20,18],\n",
    "   ['Sun',13,15,19,16]])\n",
    "\n",
    "m = reshape(a,(5,7,1))\n",
    "print(a)"
   ]
  },
  {
   "cell_type": "code",
   "execution_count": 10,
   "id": "555c131a",
   "metadata": {},
   "outputs": [
    {
     "name": "stdout",
     "output_type": "stream",
     "text": [
      "['Wed' '15' '21' '20' '19']\n",
      "23\n"
     ]
    }
   ],
   "source": [
    "\n",
    "# Accessing Values :\n",
    "\n",
    "from numpy import * \n",
    "m = array([['Mon',18,20,22,17],['Tue',11,18,21,18],\n",
    "   ['Wed',15,21,20,19],['Thu',11,20,22,21],\n",
    "   ['Fri',18,17,23,22],['Sat',12,22,20,18],\n",
    "   ['Sun',13,15,19,16]])\n",
    "    \n",
    "# Print data for Wednesday\n",
    "print(m[2])\n",
    "\n",
    "# Print data for friday evening\n",
    "print(m[4][3])"
   ]
  },
  {
   "cell_type": "code",
   "execution_count": 11,
   "id": "a5b53234",
   "metadata": {},
   "outputs": [
    {
     "name": "stdout",
     "output_type": "stream",
     "text": [
      "[['Mon' '18' '20' '22' '17']\n",
      " ['Tue' '11' '18' '21' '18']\n",
      " ['Wed' '15' '21' '20' '19']\n",
      " ['Thu' '11' '20' '22' '21']\n",
      " ['Fri' '18' '17' '23' '22']\n",
      " ['Sat' '12' '22' '20' '18']\n",
      " ['Sun' '13' '15' '19' '16']\n",
      " ['Avg' '12' '15' '13' '11']]\n"
     ]
    }
   ],
   "source": [
    "# Append\n",
    "# Adding a row \n",
    "\n",
    "m = array([['Mon',18,20,22,17],['Tue',11,18,21,18],\n",
    "   ['Wed',15,21,20,19],['Thu',11,20,22,21],\n",
    "   ['Fri',18,17,23,22],['Sat',12,22,20,18],\n",
    "   ['Sun',13,15,19,16]])\n",
    "m_r = append(m,[['Avg',12,15,13,11]],0)\n",
    "\n",
    "print(m_r)"
   ]
  },
  {
   "cell_type": "code",
   "execution_count": null,
   "id": "2ef958c8",
   "metadata": {},
   "outputs": [],
   "source": [
    "# Delete a row \n",
    "m = array([['Mon',18,20,22,17],['Tue',11,18,21,18],\n",
    "   ['Wed',15,21,20,19],['Thu',11,20,22,21],\n",
    "   ['Fri',18,17,23,22],['Sat',12,22,20,18],\n",
    "   ['Sun',13,15,19,16]])\n",
    "m = delete(m,[2],0)\n",
    "\n",
    "print(m)"
   ]
  },
  {
   "cell_type": "code",
   "execution_count": 12,
   "id": "5248a762",
   "metadata": {},
   "outputs": [
    {
     "name": "stdout",
     "output_type": "stream",
     "text": [
      "[['Mon' '18' '22' '17']\n",
      " ['Tue' '11' '21' '18']\n",
      " ['Wed' '15' '20' '19']\n",
      " ['Thu' '11' '22' '21']\n",
      " ['Fri' '18' '23' '22']\n",
      " ['Sat' '12' '20' '18']\n",
      " ['Sun' '13' '19' '16']]\n"
     ]
    }
   ],
   "source": [
    "# Delete a columns\n",
    "\n",
    "m = array([['Mon',18,20,22,17],['Tue',11,18,21,18],\n",
    "   ['Wed',15,21,20,19],['Thu',11,20,22,21],\n",
    "   ['Fri',18,17,23,22],['Sat',12,22,20,18],\n",
    "   ['Sun',13,15,19,16]])\n",
    "m = delete(m,s_[2],1)\n",
    "\n",
    "print(m)"
   ]
  },
  {
   "cell_type": "code",
   "execution_count": 13,
   "id": "1b47d1cf",
   "metadata": {},
   "outputs": [
    {
     "name": "stdout",
     "output_type": "stream",
     "text": [
      "[['Mon' '18' '20' '22' '17']\n",
      " ['Tue' '11' '18' '21' '18']\n",
      " ['Wed' '15' '21' '20' '19']\n",
      " ['Thu' '0' '0' '0' '0']\n",
      " ['Fri' '18' '17' '23' '22']\n",
      " ['Sat' '12' '22' '20' '18']\n",
      " ['Sun' '13' '15' '19' '16']]\n"
     ]
    }
   ],
   "source": [
    "# Update a row\n",
    "m = array([['Mon',18,20,22,17],['Tue',11,18,21,18],\n",
    "   ['Wed',15,21,20,19],['Thu',11,20,22,21],\n",
    "   ['Fri',18,17,23,22],['Sat',12,22,20,18],\n",
    "   ['Sun',13,15,19,16]])\n",
    "m[3] = ['Thu',0,0,0,0]\n",
    "\n",
    "print(m)"
   ]
  }
 ],
 "metadata": {
  "kernelspec": {
   "display_name": "Python 3",
   "language": "python",
   "name": "python3"
  },
  "language_info": {
   "codemirror_mode": {
    "name": "ipython",
    "version": 3
   },
   "file_extension": ".py",
   "mimetype": "text/x-python",
   "name": "python",
   "nbconvert_exporter": "python",
   "pygments_lexer": "ipython3",
   "version": "3.8.10"
  }
 },
 "nbformat": 4,
 "nbformat_minor": 5
}
