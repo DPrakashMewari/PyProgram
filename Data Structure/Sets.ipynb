{
 "cells": [
  {
   "cell_type": "code",
   "execution_count": 2,
   "id": "a24584fb",
   "metadata": {},
   "outputs": [
    {
     "name": "stdout",
     "output_type": "stream",
     "text": [
      "{'Mon', 'Fri', 'Tue', 'Sat', 'Wed', 'Thu', 'Sun'}\n",
      "{'Mar', 'Feb', 'Jan'}\n",
      "{17, 21, 22}\n"
     ]
    }
   ],
   "source": [
    "# set is a collection of items not in any particular order.\n",
    "# The elements in the set cannot be duplicates.\n",
    "# The elements in the set are immutable(cannot be modified)\n",
    "\n",
    "\n",
    "Days=set([\"Mon\",\"Tue\",\"Wed\",\"Thu\",\"Fri\",\"Sat\",\"Sun\",\"Sun\"])\n",
    "Months={\"Jan\",\"Feb\",\"Mar\"}\n",
    "Dates={21,22,17}\n",
    "print(Days)\n",
    "print(Months)\n",
    "print(Dates)"
   ]
  },
  {
   "cell_type": "code",
   "execution_count": 4,
   "id": "0a23d642",
   "metadata": {},
   "outputs": [
    {
     "name": "stdout",
     "output_type": "stream",
     "text": [
      "(0, 'Mon')\n",
      "(1, 'Fri')\n",
      "(2, 'Tue')\n",
      "(3, 'Sat')\n",
      "(4, 'Wed')\n",
      "(5, 'Thu')\n",
      "(6, 'Sun')\n"
     ]
    }
   ],
   "source": [
    "# Accessing value in set\n",
    "Days=set([\"Mon\",\"Tue\",\"Wed\",\"Thu\",\"Fri\",\"Sat\",\"Sun\"])\n",
    " \n",
    "for d in enumerate(Days):\n",
    "   print(d)"
   ]
  },
  {
   "cell_type": "code",
   "execution_count": 5,
   "id": "5a843ed0",
   "metadata": {},
   "outputs": [
    {
     "name": "stdout",
     "output_type": "stream",
     "text": [
      "{'Mon', 'Fri', 'Tue', 'Sat', 'Wed', 'Thu', 'Sun'}\n"
     ]
    }
   ],
   "source": [
    "# Adding Item to set\n",
    "Days=set([\"Mon\",\"Tue\",\"Wed\",\"Thu\",\"Fri\",\"Sat\"])\n",
    " \n",
    "Days.add(\"Sun\")\n",
    "print(Days)"
   ]
  },
  {
   "cell_type": "code",
   "execution_count": 6,
   "id": "8b300ab9",
   "metadata": {},
   "outputs": [
    {
     "name": "stdout",
     "output_type": "stream",
     "text": [
      "{'Mon', 'Fri', 'Tue', 'Sat', 'Wed', 'Thu'}\n"
     ]
    }
   ],
   "source": [
    "# Removing Items from set \n",
    "\n",
    "Days=set([\"Mon\",\"Tue\",\"Wed\",\"Thu\",\"Fri\",\"Sat\"])\n",
    " \n",
    "Days.discard(\"Sun\")\n",
    "print(Days)"
   ]
  },
  {
   "cell_type": "code",
   "execution_count": 10,
   "id": "77ea3694",
   "metadata": {},
   "outputs": [
    {
     "name": "stdout",
     "output_type": "stream",
     "text": [
      "{'Mon', 'Tue', 'Fri', 'Sat', 'Wed', 'Thu', 'Sun'}\n"
     ]
    }
   ],
   "source": [
    "# Union all distinct values b/w two sets\n",
    "\n",
    "DaysA = set([\"Mon\",\"Tue\",\"Wed\"])\n",
    "DaysB = set([\"Wed\",'Wed',\"Thu\",\"Fri\",\"Sat\",\"Sun\"])\n",
    "AllDays = DaysA|DaysB\n",
    "print(AllDays)"
   ]
  },
  {
   "cell_type": "code",
   "execution_count": null,
   "id": "292bd6e3",
   "metadata": {},
   "outputs": [],
   "source": [
    "# Intersection : common value b/w two sets\n",
    "DaysA = set([\"Mon\",\"Tue\",\"Wed\"])\n",
    "DaysB = set([\"Wed\",\"Thu\",\"Fri\",\"Sat\",\"Sun\"])\n",
    "AllDays = DaysA - DaysB\n",
    "print(AllDays)"
   ]
  }
 ],
 "metadata": {
  "kernelspec": {
   "display_name": "Python 3",
   "language": "python",
   "name": "python3"
  },
  "language_info": {
   "codemirror_mode": {
    "name": "ipython",
    "version": 3
   },
   "file_extension": ".py",
   "mimetype": "text/x-python",
   "name": "python",
   "nbconvert_exporter": "python",
   "pygments_lexer": "ipython3",
   "version": "3.8.10"
  }
 },
 "nbformat": 4,
 "nbformat_minor": 5
}
