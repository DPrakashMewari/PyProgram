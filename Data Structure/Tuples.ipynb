{
 "cells": [
  {
   "cell_type": "code",
   "execution_count": 3,
   "id": "0c26b8b6",
   "metadata": {},
   "outputs": [
    {
     "data": {
      "text/plain": [
       "tuple"
      ]
     },
     "execution_count": 3,
     "metadata": {},
     "output_type": "execute_result"
    }
   ],
   "source": [
    "# Tuples are immutable it cant be changed\n",
    "tup1 = ('Prakash','ay','Ni')\n",
    "tup2 = (1,2,3,4,5,6)\n",
    "tup3 = (\"a\",'p',\"n\")\n",
    "\n",
    "type(tup1)"
   ]
  },
  {
   "cell_type": "code",
   "execution_count": 9,
   "id": "92a91a4a",
   "metadata": {},
   "outputs": [
    {
     "data": {
      "text/plain": [
       "('Prakash', 'ay')"
      ]
     },
     "execution_count": 9,
     "metadata": {},
     "output_type": "execute_result"
    }
   ],
   "source": [
    "# Accessing values \n",
    "# Same as list\n",
    "tup1[0]\n",
    "tup1[:-1]"
   ]
  },
  {
   "cell_type": "code",
   "execution_count": 17,
   "id": "953e0c02",
   "metadata": {},
   "outputs": [
    {
     "name": "stdout",
     "output_type": "stream",
     "text": [
      "Prakash\n",
      "ay\n",
      "Ni\n",
      "1\n",
      "2\n",
      "3\n",
      "4\n",
      "5\n",
      "6\n"
     ]
    }
   ],
   "source": [
    "# Updating values :\n",
    "\n",
    "\n",
    "tup3 = tup1 + tup2\n",
    "tup3\n",
    "\n",
    "\n",
    "# Delete tuple \n",
    "del tup3\n",
    "_ # For representating prev instance\n",
    "\n",
    "for i in _ :\n",
    "    print(i)"
   ]
  },
  {
   "cell_type": "code",
   "execution_count": 39,
   "id": "5d05a4d2",
   "metadata": {},
   "outputs": [
    {
     "data": {
      "text/plain": [
       "(0, 2)"
      ]
     },
     "execution_count": 39,
     "metadata": {},
     "output_type": "execute_result"
    }
   ],
   "source": [
    "# Basic Tuple operation:\n",
    "len(tup2)\n",
    "# Concatination\n",
    "(1,4,5) + (2,4,4)\n",
    "# Repitation \n",
    "(\"Prakash\") * 4 \n",
    "# Membership opearation \n",
    "'Prakash' in tup1\n",
    "# Iteration \n",
    "x1=(x for x in range(4) if x%2 == 0)\n",
    "tuple(x1)"
   ]
  },
  {
   "cell_type": "code",
   "execution_count": 34,
   "id": "301a7dc8",
   "metadata": {},
   "outputs": [
    {
     "name": "stdout",
     "output_type": "stream",
     "text": [
      "1\n"
     ]
    }
   ],
   "source": [
    "'ay' in tup1\n",
    "if True:\n",
    "    print(tup1.index('ay'))"
   ]
  },
  {
   "cell_type": "code",
   "execution_count": null,
   "id": "2c5045fc",
   "metadata": {},
   "outputs": [],
   "source": [
    "# Wrap up in Function:\n",
    "def tuple_operation(t)"
   ]
  },
  {
   "cell_type": "code",
   "execution_count": null,
   "id": "dad73c5d",
   "metadata": {},
   "outputs": [],
   "source": []
  }
 ],
 "metadata": {
  "kernelspec": {
   "display_name": "Python 3",
   "language": "python",
   "name": "python3"
  },
  "language_info": {
   "codemirror_mode": {
    "name": "ipython",
    "version": 3
   },
   "file_extension": ".py",
   "mimetype": "text/x-python",
   "name": "python",
   "nbconvert_exporter": "python",
   "pygments_lexer": "ipython3",
   "version": "3.8.10"
  }
 },
 "nbformat": 4,
 "nbformat_minor": 5
}
