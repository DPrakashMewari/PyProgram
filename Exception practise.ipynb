{
 "cells": [
  {
   "cell_type": "code",
   "execution_count": 2,
   "metadata": {},
   "outputs": [
    {
     "name": "stdout",
     "output_type": "stream",
     "text": [
      "Enter testcase: 1\n",
      "Enter the value of x10\n",
      "Enter the value of y20\n",
      "0.5\n",
      "There is No Issue\n",
      "This is Program Succesfully Run\n"
     ]
    }
   ],
   "source": [
    "def function(X,Y):\n",
    "    try:\n",
    "        x = X\n",
    "        y = Y\n",
    "        z = x/y\n",
    "        print(z)\n",
    "    except:\n",
    "        print(\"There is some error\")\n",
    "    else:\n",
    "        print(\"There is No Issue\")\n",
    "    finally:\n",
    "        print(\"This is Program Succesfully Run\")\n",
    "\n",
    "testcase = int(input(\"Enter testcase: \"))\n",
    "while testcase:\n",
    "    X = int(input(\"Enter the value of x\"))\n",
    "    Y = int(input(\"Enter the value of y\"))\n",
    "    function(X,Y)\n",
    "    testcase = testcase - 1"
   ]
  },
  {
   "cell_type": "code",
   "execution_count": 10,
   "metadata": {},
   "outputs": [
    {
     "name": "stdout",
     "output_type": "stream",
     "text": [
      "Enter the value10\n",
      "Enter the value0\n",
      "Error we found ('Zero error', 0)\n",
      "-----------\n"
     ]
    }
   ],
   "source": [
    "# Manual Error Raise\n",
    "\n",
    "def errorsee(value):\n",
    "    if value == 0:\n",
    "        raise Exception(\"Zero error\",value)\n",
    "    return value\n",
    "\n",
    "\n",
    "try:\n",
    "    t = 2\n",
    "    while t:\n",
    "        value = int(input(\"Enter the value\"))\n",
    "        errorsee(value)\n",
    "        t = t -1\n",
    "except Exception as e:\n",
    "    print(\"Error we found\",e)\n",
    "else:\n",
    "    print(\"Every thing is A okay\")\n",
    "finally:\n",
    "    print(\"-----------\")\n",
    "    "
   ]
  },
  {
   "cell_type": "code",
   "execution_count": 20,
   "metadata": {},
   "outputs": [
    {
     "name": "stdout",
     "output_type": "stream",
     "text": [
      "Enter the Minimum No10\n",
      "Enter the Maximum No20\n",
      "11\n",
      "13\n",
      "15\n",
      "17\n",
      "19\n",
      "\n",
      "Error Log\n",
      "2021-08-04 12:51:10,701 invalid literal for int() with base 10: ''\n",
      "2021-08-04 12:51:36,109 invalid literal for int() with base 10: ''\n",
      "\n"
     ]
    }
   ],
   "source": [
    "import logging as lg\n",
    "\n",
    "lg.basicConfig(filename = 'even.log',level = lg.INFO , format  = '%(asctime)s %(message)s')\n",
    "\n",
    "try:\n",
    "    minimum = int(input(\"Enter the Minimum No\"))\n",
    "    maximum = int(input(\"Enter the Maximum No\"))\n",
    "except Exception as e:\n",
    "    print(\"Please see in log\",lg.error(e))\n",
    "else:\n",
    "    for i in range(minimum,maximum+1):\n",
    "        if i%2 != 0:\n",
    "            print(i)\n",
    "finally:\n",
    "    try:\n",
    "        f = open(\"even.log\",'r')\n",
    "        print()\n",
    "        print(\"Error Log\")\n",
    "        print(f.read())\n",
    "    except:\n",
    "        print(\"error\")\n",
    "    "
   ]
  }
 ],
 "metadata": {
  "kernelspec": {
   "display_name": "Python 3",
   "language": "python",
   "name": "python3"
  },
  "language_info": {
   "codemirror_mode": {
    "name": "ipython",
    "version": 3
   },
   "file_extension": ".py",
   "mimetype": "text/x-python",
   "name": "python",
   "nbconvert_exporter": "python",
   "pygments_lexer": "ipython3",
   "version": "3.7.6"
  }
 },
 "nbformat": 4,
 "nbformat_minor": 4
}
