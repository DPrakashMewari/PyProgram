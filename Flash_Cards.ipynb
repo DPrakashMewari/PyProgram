{
  "nbformat": 4,
  "nbformat_minor": 0,
  "metadata": {
    "colab": {
      "name": "Flash Cards.ipynb",
      "provenance": []
    },
    "kernelspec": {
      "name": "python3",
      "display_name": "Python 3"
    },
    "language_info": {
      "name": "python"
    }
  },
  "cells": [
    {
      "cell_type": "code",
      "metadata": {
        "colab": {
          "base_uri": "https://localhost:8080/"
        },
        "id": "6Mg_xqkgOVTf",
        "outputId": "f635ae5b-8c54-4595-b693-003622e015a3"
      },
      "source": [
        "class flashcards:\n",
        "  def __init__(self,word,meaning):\n",
        "    self.word = word\n",
        "    self.meaning = meaning \n",
        "  def __str__(self):\n",
        "    return self.word + \"(\" + self.meaning  + \")\"\n",
        "flash = []\n",
        "print(\"Welcome to Flash card application \")\n",
        "while True:\n",
        "  word = input(\"Enter the name you want to add to flash cards\")\n",
        "  meaning = input(\"Enter the meaning of word\")\n",
        "  flash.append(flashcards(word,meaning))\n",
        "  option = input(\"enter 0,if you want to add another flash card\")\n",
        "  if option == \"0\":\n",
        "    continue\n",
        "  else:\n",
        "    break\n",
        "print(\"Your flashcards\")\n",
        "for i in flash:\n",
        "  print(\"->\",i)\n"
      ],
      "execution_count": 10,
      "outputs": [
        {
          "output_type": "stream",
          "name": "stdout",
          "text": [
            "Welcome to Flash card application \n",
            "Enter the name you want to add to flash cardswww\n",
            "Enter the meaning of wordword wide web\n",
            "enter 0,if you want to add another flash card0\n",
            "Enter the name you want to add to flash cardssmtp\n",
            "Enter the meaning of wordsimple mail transfer protocol\n",
            "enter 0,if you want to add another flash card\n",
            "Your flashcards\n",
            "-> www(word wide web)\n",
            "-> smtp(simple mail transfer protocol)\n"
          ]
        }
      ]
    }
  ]
}