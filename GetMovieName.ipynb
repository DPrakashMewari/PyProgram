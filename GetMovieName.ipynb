{
 "cells": [
  {
   "cell_type": "code",
   "execution_count": 1,
   "id": "9c0c9029",
   "metadata": {},
   "outputs": [],
   "source": [
    "import imdb"
   ]
  },
  {
   "cell_type": "code",
   "execution_count": 26,
   "id": "cf31aa4c",
   "metadata": {},
   "outputs": [
    {
     "name": "stdout",
     "output_type": "stream",
     "text": [
      "Movie Name: Wake Up Sid   2009\n",
      "Top Movies By IMDB\n",
      "Movie :- The Shawshank Redemption -_-\n",
      "Movie :- The Godfather -_-\n",
      "Movie :- The Godfather: Part II -_-\n",
      "Movie :- The Dark Knight -_-\n",
      "Movie :- 12 Angry Men -_-\n",
      "Movie :- Schindler's List -_-\n",
      "Movie :- The Lord of the Rings: The Return of the King -_-\n",
      "Movie :- Pulp Fiction -_-\n",
      "Movie :- The Good, the Bad and the Ugly -_-\n",
      "Movie :- The Lord of the Rings: The Fellowship of the Ring -_-\n",
      "Movie :- Fight Club -_-\n",
      "Movie :- Forrest Gump -_-\n",
      "Movie :- Inception -_-\n",
      "Movie :- The Lord of the Rings: The Two Towers -_-\n",
      "Movie :- Star Wars: Episode V - The Empire Strikes Back -_-\n",
      "Movie :- The Matrix -_-\n",
      "Movie :- Goodfellas -_-\n",
      "Movie :- One Flew Over the Cuckoo's Nest -_-\n",
      "Movie :- Seven Samurai -_-\n",
      "Movie :- Se7en -_-\n",
      "Movie :- City of God -_-\n",
      "Movie :- The Silence of the Lambs -_-\n",
      "Movie :- Life Is Beautiful -_-\n",
      "Movie :- It's a Wonderful Life -_-\n",
      "Movie :- Star Wars: Episode IV - A New Hope -_-\n"
     ]
    }
   ],
   "source": [
    "# Intialize object for Imdb movie \n",
    "obj = imdb.IMDb()\n",
    "movie_name=obj.search_movie(\"Wake up sid\")\n",
    "\n",
    "# Now Get Movie Year \n",
    "movie_year=movie_name[0]['year']\n",
    "\n",
    "\n",
    "# \n",
    "print(\"Movie Name:\",movie_name[0],\" \",movie_year)\n",
    "\n",
    "\n",
    "\n",
    "# Wanted to Know Top Movies:\n",
    "list_movies=obj.get_top250_movies()\n",
    "print(\"Top Movies By IMDB\")\n",
    "for i in range(25):\n",
    "    print(\"Movie :-\",list_movies[i],\"-_-\")"
   ]
  }
 ],
 "metadata": {
  "kernelspec": {
   "display_name": "Python 3",
   "language": "python",
   "name": "python3"
  },
  "language_info": {
   "codemirror_mode": {
    "name": "ipython",
    "version": 3
   },
   "file_extension": ".py",
   "mimetype": "text/x-python",
   "name": "python",
   "nbconvert_exporter": "python",
   "pygments_lexer": "ipython3",
   "version": "3.8.8"
  }
 },
 "nbformat": 4,
 "nbformat_minor": 5
}
