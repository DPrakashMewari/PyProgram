{
 "cells": [
  {
   "cell_type": "code",
   "execution_count": 7,
   "id": "54ad3700",
   "metadata": {},
   "outputs": [
    {
     "name": "stdout",
     "output_type": "stream",
     "text": [
      "P\n",
      "r\n",
      "a\n",
      "k\n",
      "a\n",
      "y\n",
      "s\n",
      "h\n"
     ]
    }
   ],
   "source": [
    "# Iterators :\n",
    "\n",
    "obj = 'Prakaysh'\n",
    "\n",
    "# intialised with iter \n",
    "obj1 = iter(obj)\n",
    "\n",
    "\n",
    "while True:\n",
    "    try:\n",
    "        item = next(obj1)\n",
    "        print(item)\n",
    "    except:\n",
    "        break"
   ]
  },
  {
   "cell_type": "code",
   "execution_count": 22,
   "id": "4a2faf7f",
   "metadata": {},
   "outputs": [
    {
     "name": "stdout",
     "output_type": "stream",
     "text": [
      "10\n",
      "11\n",
      "12\n"
     ]
    }
   ],
   "source": [
    "# Using class :\n",
    "\n",
    "class Test:\n",
    "    def __init__(self,limit):\n",
    "        self.limit = limit\n",
    "    \n",
    "    def __iter__(self):\n",
    "        self.y = 10\n",
    "        return self\n",
    "    \n",
    "    def __next__(self):\n",
    "        y = self.y \n",
    "        if y > self.limit:\n",
    "            raise StopIteration\n",
    "        self.y = y + 1;\n",
    "        return y\n",
    "\n",
    "for i in Test(12):\n",
    "    print(i)"
   ]
  },
  {
   "cell_type": "code",
   "execution_count": 61,
   "id": "059a6912",
   "metadata": {},
   "outputs": [
    {
     "name": "stdout",
     "output_type": "stream",
     "text": [
      "0\n",
      "1\n",
      "1\n",
      "2\n",
      "3\n"
     ]
    }
   ],
   "source": [
    "# Generators\n",
    "\n",
    "def fib(limit):\n",
    "    a,b = 0,1 \n",
    "    while a < limit:\n",
    "        yield a \n",
    "        a,b = b,a+b\n",
    "x = fib(5)\n",
    "print(x.__next__())\n",
    "print(x.__next__())\n",
    "\n",
    "print(x.__next__())\n",
    "print(x.__next__())\n",
    "print(x.__next__())\n",
    "\n"
   ]
  },
  {
   "cell_type": "code",
   "execution_count": 106,
   "id": "a79478bb",
   "metadata": {},
   "outputs": [
    {
     "name": "stdout",
     "output_type": "stream",
     "text": [
      "[0, 1, 16, 81, 256, 625, 1296, 2401, 4096, 6561, 10000, 14641, 20736, 28561]\n"
     ]
    }
   ],
   "source": [
    "# List Comprenshion:\n",
    "import random \n",
    "\n",
    "x1=[i**4 for i in range(14)]\n",
    "print(x1)\n",
    "\n"
   ]
  }
 ],
 "metadata": {
  "kernelspec": {
   "display_name": "Python 3 (ipykernel)",
   "language": "python",
   "name": "python3"
  },
  "language_info": {
   "codemirror_mode": {
    "name": "ipython",
    "version": 3
   },
   "file_extension": ".py",
   "mimetype": "text/x-python",
   "name": "python",
   "nbconvert_exporter": "python",
   "pygments_lexer": "ipython3",
   "version": "3.8.10"
  }
 },
 "nbformat": 4,
 "nbformat_minor": 5
}
