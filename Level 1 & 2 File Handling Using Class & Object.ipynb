{
 "cells": [
  {
   "cell_type": "code",
   "execution_count": 13,
   "metadata": {},
   "outputs": [
    {
     "name": "stdout",
     "output_type": "stream",
     "text": [
      "File Opening pa.txt file Date: 24-MARCH filesize: 2kb\n",
      "This is Demo Text\n",
      "File Opening pa.txt file Date: 24-MARCH filesize: 2kb\n",
      "This is Demo TextThis is Text for append\n",
      "--\n"
     ]
    }
   ],
   "source": [
    "import logging as lg\n",
    "class data:\n",
    "    def __init__(self,filename,filetype,filedate,size):\n",
    "        self.filename = filename \n",
    "        self.filetype = filetype \n",
    "        self.filedate = filedate\n",
    "        self.size = size \n",
    "    def logging(self,log):\n",
    "        lg.basicConfig(filename=\"Error.log\",level=lg.ERROR)\n",
    "        return lg.error(log)    \n",
    "    def file_open(self):\n",
    "        try:\n",
    "            f = open(f\"{self.filename}.{self.filetype}\",'w')\n",
    "            f.write(\"This is Demo Text\")\n",
    "        except Exception as e:\n",
    "            self.logging(e)\n",
    "    def file_read(self):\n",
    "        try:\n",
    "            f = open(f\"{self.filename}.{self.filetype}\",'r')\n",
    "            print(f\"File Opening {self.filename}.{self.filetype} file Date: {self.filedate} filesize: {self.size}\")\n",
    "            print(f.read())\n",
    "        except Exception as e:\n",
    "            self.logging(e)\n",
    "    def file_append(self):\n",
    "        try:\n",
    "            f = open(f\"{self.filename}.{self.filetype}\",'a')\n",
    "            f.write(\"This is Text for append\")\n",
    "            f.close()\n",
    "        except Exception as e:\n",
    "            self.logging(e)\n",
    "    def log_check(self):\n",
    "        f = open('Error.log','r')\n",
    "        print(f.read())\n",
    "\n",
    "            \n",
    "def main():\n",
    "    obj = data('pa','txt','24-MARCH','2kb')\n",
    "    obj.file_open()\n",
    "    obj.file_read()\n",
    "    obj.file_append()\n",
    "    obj.file_read()\n",
    "    print(\"--\")\n",
    "    #obj.log_check()\n",
    "    \n",
    "    \n",
    "main()\n",
    "    \n",
    "            \n",
    "        "
   ]
  }
 ],
 "metadata": {
  "kernelspec": {
   "display_name": "Python 3",
   "language": "python",
   "name": "python3"
  },
  "language_info": {
   "codemirror_mode": {
    "name": "ipython",
    "version": 3
   },
   "file_extension": ".py",
   "mimetype": "text/x-python",
   "name": "python",
   "nbconvert_exporter": "python",
   "pygments_lexer": "ipython3",
   "version": "3.7.3"
  }
 },
 "nbformat": 4,
 "nbformat_minor": 2
}
