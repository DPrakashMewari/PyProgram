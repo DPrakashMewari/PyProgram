{
 "cells": [
  {
   "cell_type": "code",
   "execution_count": 1,
   "id": "4bfa7de7",
   "metadata": {},
   "outputs": [],
   "source": [
    "import logging as lg\n",
    "lg.basicConfig(filename=\"multiplication.log\",level=lg.INFO)\n",
    "def multiplication_table(x):\n",
    "        for value in range(1,11):\n",
    "            print(x,\"X\",value,\"=\",x*value)\n",
    "        lg.info(\"Program is Succesfully run and we get multiplication table\")"
   ]
  },
  {
   "cell_type": "code",
   "execution_count": 2,
   "id": "55ac132c",
   "metadata": {},
   "outputs": [
    {
     "name": "stdout",
     "output_type": "stream",
     "text": [
      "2 X 1 = 2\n",
      "2 X 2 = 4\n",
      "2 X 3 = 6\n",
      "2 X 4 = 8\n",
      "2 X 5 = 10\n",
      "2 X 6 = 12\n",
      "2 X 7 = 14\n",
      "2 X 8 = 16\n",
      "2 X 9 = 18\n",
      "2 X 10 = 20\n"
     ]
    }
   ],
   "source": [
    "multiplication_table(2)"
   ]
  },
  {
   "cell_type": "code",
   "execution_count": 3,
   "id": "bbcf2578",
   "metadata": {},
   "outputs": [
    {
     "name": "stdout",
     "output_type": "stream",
     "text": [
      "INFO:root:Program is Succesfully run and we get multiplication table\n",
      "INFO:root:Program is Succesfully run and we get multiplication table\n",
      "INFO:root:Program is Succesfully run and we get multiplication table\n",
      "\n"
     ]
    }
   ],
   "source": [
    "f = open(\"multiplication.log\",'r')\n",
    "print(f.read())"
   ]
  },
  {
   "cell_type": "code",
   "execution_count": 13,
   "id": "14b80b28",
   "metadata": {},
   "outputs": [],
   "source": [
    "lg.basicConfig(filename='div.log',level=lg.ERROR)\n",
    "def divide(a,b):\n",
    "    try:\n",
    "        c = a/b\n",
    "        lg.info(\"Program Succesfully run\",c)\n",
    "        return c \n",
    "    except:\n",
    "        lg.error(\"Cant Divide by Zero\")\n",
    "        print(\"Please see the log\")"
   ]
  },
  {
   "cell_type": "code",
   "execution_count": 15,
   "id": "14b5c47e",
   "metadata": {},
   "outputs": [
    {
     "name": "stdout",
     "output_type": "stream",
     "text": [
      "Please see the log\n"
     ]
    }
   ],
   "source": [
    "divide(1,0)"
   ]
  },
  {
   "cell_type": "code",
   "execution_count": 17,
   "id": "edbaf670",
   "metadata": {},
   "outputs": [
    {
     "name": "stdout",
     "output_type": "stream",
     "text": [
      "ERROR:root:We got an Some Errot\n",
      "ERROR:root:We got an Some Error\n",
      "ERROR:root:Cant Divide by Zero\n",
      "\n"
     ]
    }
   ],
   "source": [
    "f = open(\"div.log\",'r')\n",
    "print(f.read())"
   ]
  }
 ],
 "metadata": {
  "kernelspec": {
   "display_name": "Python 3",
   "language": "python",
   "name": "python3"
  },
  "language_info": {
   "codemirror_mode": {
    "name": "ipython",
    "version": 3
   },
   "file_extension": ".py",
   "mimetype": "text/x-python",
   "name": "python",
   "nbconvert_exporter": "python",
   "pygments_lexer": "ipython3",
   "version": "3.8.8"
  }
 },
 "nbformat": 4,
 "nbformat_minor": 5
}
