{
 "cells": [
  {
   "cell_type": "code",
   "execution_count": null,
   "metadata": {},
   "outputs": [
    {
     "name": "stdout",
     "output_type": "stream",
     "text": [
      "Are you a registered user? (Yes/No)? Press q to quit: No\n",
      "Create login name: Prakash\n",
      "Create password: VALYE\n",
      "New User created!\n"
     ]
    }
   ],
   "source": [
    "#Dictionary\n",
    "users = {}\n",
    "#Used to quit/create/login users\n",
    "status = \"\"\n",
    "#Start Menu:Ask if user exists or create new user\n",
    "def Display_Menu():\n",
    "    status =input(\"Are you a registered user? (Yes/No)? Press q to quit: \")\n",
    "    if status == \"Yes\":\n",
    "        Old_User()\n",
    "    elif status == \"No\":\n",
    "        New_User()\n",
    "#Creates New User\n",
    "def New_User():\n",
    "    Create_Login =input(\"Create login name: \")\n",
    "    if Create_Login in users:\n",
    "        print (\"Login name already exist!\")\n",
    "    else:\n",
    "        Create_Password =input(\"Create password: \")\n",
    "        users[Create_Login] = Create_Password\n",
    "        print(\"New User created!\")     \n",
    "#Login if old user\n",
    "def Old_User():\n",
    "    login =input(\"Enter login name: \")\n",
    "    Password =input(\"Enter password: \")\n",
    "\n",
    "    if login in users and users[login] == Password:\n",
    "        print(\"Login successful!\")\n",
    "    else:\n",
    "        print(\"User doesn't exist or wrong password!\")\n",
    "#Quits Program\n",
    "if status == \"Q\":\n",
    "    exit()\n",
    "while status !=\"Q\":\n",
    "    Display_Menu()"
   ]
  }
 ],
 "metadata": {
  "kernelspec": {
   "display_name": "Python 3",
   "language": "python",
   "name": "python3"
  },
  "language_info": {
   "codemirror_mode": {
    "name": "ipython",
    "version": 3
   },
   "file_extension": ".py",
   "mimetype": "text/x-python",
   "name": "python",
   "nbconvert_exporter": "python",
   "pygments_lexer": "ipython3",
   "version": "3.7.6"
  }
 },
 "nbformat": 4,
 "nbformat_minor": 4
}
