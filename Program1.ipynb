{
 "cells": [
  {
   "cell_type": "code",
   "execution_count": null,
   "id": "fa823c34",
   "metadata": {},
   "outputs": [],
   "source": [
    "# Python Program to Extract Unique values dictionery values`"
   ]
  },
  {
   "cell_type": "code",
   "execution_count": 1,
   "id": "19e64522",
   "metadata": {},
   "outputs": [],
   "source": [
    "dict1 = {'pr':[5,6,7,8],'is':[10,11,7,5],'best':[3,12,34,5],'a':[23,32,23,12]}"
   ]
  },
  {
   "cell_type": "code",
   "execution_count": 5,
   "id": "62e88ac1",
   "metadata": {},
   "outputs": [
    {
     "data": {
      "text/plain": [
       "[3, 5, 6, 7, 8, 10, 11, 12, 23, 32, 34]"
      ]
     },
     "execution_count": 5,
     "metadata": {},
     "output_type": "execute_result"
    }
   ],
   "source": [
    "str(dict1) # Conver into dictionery \n",
    "list(sorted({ele for val in dict1.values() for ele in val}))"
   ]
  },
  {
   "cell_type": "code",
   "execution_count": null,
   "id": "9c52d01c",
   "metadata": {},
   "outputs": [],
   "source": [
    "# Python program to find the sum of all item "
   ]
  },
  {
   "cell_type": "code",
   "execution_count": 8,
   "id": "fd69bcde",
   "metadata": {},
   "outputs": [
    {
     "data": {
      "text/plain": [
       "3000"
      ]
     },
     "execution_count": 8,
     "metadata": {},
     "output_type": "execute_result"
    }
   ],
   "source": [
    "def dsum(dict1):\n",
    "    sum = 0 \n",
    "    for i in dict1:\n",
    "        sum = sum + dict1[i]\n",
    "    return sum\n",
    "\n",
    "\n",
    "dict1 = {'ay':2000,'Pr':1000}\n",
    "dsum(dict1)"
   ]
  },
  {
   "cell_type": "code",
   "execution_count": null,
   "id": "24275710",
   "metadata": {},
   "outputs": [],
   "source": []
  },
  {
   "cell_type": "code",
   "execution_count": null,
   "id": "c778d687",
   "metadata": {},
   "outputs": [],
   "source": []
  },
  {
   "cell_type": "code",
   "execution_count": null,
   "id": "53cf0f96",
   "metadata": {},
   "outputs": [],
   "source": []
  }
 ],
 "metadata": {
  "kernelspec": {
   "display_name": "Python 3",
   "language": "python",
   "name": "python3"
  },
  "language_info": {
   "codemirror_mode": {
    "name": "ipython",
    "version": 3
   },
   "file_extension": ".py",
   "mimetype": "text/x-python",
   "name": "python",
   "nbconvert_exporter": "python",
   "pygments_lexer": "ipython3",
   "version": "3.8.10"
  }
 },
 "nbformat": 4,
 "nbformat_minor": 5
}
