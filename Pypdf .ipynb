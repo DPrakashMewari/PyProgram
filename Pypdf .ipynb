{
 "cells": [
  {
   "cell_type": "code",
   "execution_count": 6,
   "id": "dd8fc2b8",
   "metadata": {},
   "outputs": [],
   "source": [
    "\n",
    "import PyPDF2"
   ]
  },
  {
   "cell_type": "code",
   "execution_count": 13,
   "id": "dd3391f3",
   "metadata": {},
   "outputs": [
    {
     "name": "stdout",
     "output_type": "stream",
     "text": [
      "121\n"
     ]
    }
   ],
   "source": [
    "obj = open('1_intro.pdf','rb')\n",
    "obj = PyPDF2.PdfFileReader(obj)\n",
    "print(obj.numPages)  # There are total 121 Pages in our pdf"
   ]
  },
  {
   "cell_type": "code",
   "execution_count": 25,
   "id": "905702c9",
   "metadata": {},
   "outputs": [
    {
     "name": "stdout",
     "output_type": "stream",
     "text": [
      "ioc.pdf\n",
      "AnexamleofDS:SalariesinEstonia\n",
      "margarita.spitsakova@ttu.ee\n",
      "ICY0006:Lecture1\n",
      "10/78\n",
      "\n"
     ]
    }
   ],
   "source": [
    "# Getting page by no \n",
    "ob=obj.getPage(10)\n",
    "# extracting text from that page \n",
    "print(ob.extractText())"
   ]
  },
  {
   "cell_type": "code",
   "execution_count": null,
   "id": "2fe3a803",
   "metadata": {},
   "outputs": [],
   "source": []
  },
  {
   "cell_type": "code",
   "execution_count": null,
   "id": "7b8a3564",
   "metadata": {},
   "outputs": [],
   "source": []
  }
 ],
 "metadata": {
  "kernelspec": {
   "display_name": "Python 3",
   "language": "python",
   "name": "python3"
  },
  "language_info": {
   "codemirror_mode": {
    "name": "ipython",
    "version": 3
   },
   "file_extension": ".py",
   "mimetype": "text/x-python",
   "name": "python",
   "nbconvert_exporter": "python",
   "pygments_lexer": "ipython3",
   "version": "3.8.10"
  }
 },
 "nbformat": 4,
 "nbformat_minor": 5
}
