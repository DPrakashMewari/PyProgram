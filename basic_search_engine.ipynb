{
  "nbformat": 4,
  "nbformat_minor": 0,
  "metadata": {
    "colab": {
      "name": "basic search engine.ipynb",
      "provenance": []
    },
    "kernelspec": {
      "name": "python3",
      "display_name": "Python 3"
    },
    "language_info": {
      "name": "python"
    }
  },
  "cells": [
    {
      "cell_type": "code",
      "metadata": {
        "id": "RCNS3_GwHR0e",
        "colab": {
          "base_uri": "https://localhost:8080/"
        },
        "outputId": "4f9f2d75-c8fe-4220-e277-2f51869a4ae3"
      },
      "source": [
        "\n",
        "\n",
        "def matchingWords(sentence1, sentence2):\n",
        "    words1 = sentence1.strip().split(\" \")\n",
        "    words2 = sentence2.strip().split(\" \")\n",
        "    score = 0\n",
        "    for word1 in words1:\n",
        "        for word2 in words2:\n",
        "\t\t\t\t\t      if word1.lower() == word2.lower():\n",
        "\t\t\t\t\t\t\t\t\t   score += 1\n",
        "    return score \n",
        "\n",
        "if __name__ == \"__main__\":\n",
        "\tSentences = ['Python is cool', 'is good', 'python is not python snake']\n",
        "\tquery = input(\"Enter your search keyword \")\n",
        "\tscores = [matchingWords(query,sentence) for sentence in Sentences]\n",
        "\t#print(scores)\n",
        "sortedsentscore=[sentscore for sentscore in sorted(zip(scores,Sentences),reverse = True)]\n",
        "#print(sortedsentscore)\n",
        "print(f\"{len(sortedsentscore)} records found\")\n",
        "for score,item in sortedsentscore:\n",
        "\tprint(f\"{item} with the score of {score}\")"
      ],
      "execution_count": 48,
      "outputs": [
        {
          "output_type": "stream",
          "name": "stdout",
          "text": [
            "Enter your search keyword python\n",
            "3 records found\n",
            "python is not python snake with the score of 2\n",
            "Python is cool with the score of 1\n",
            "is good with the score of 0\n"
          ]
        }
      ]
    }
  ]
}